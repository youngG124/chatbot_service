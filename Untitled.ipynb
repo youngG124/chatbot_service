{
 "cells": [
  {
   "cell_type": "code",
   "execution_count": 1,
   "id": "06446800",
   "metadata": {},
   "outputs": [],
   "source": [
    "from flask import Flask, jsonify\n",
    "from flask_cors import CORS"
   ]
  },
  {
   "cell_type": "code",
   "execution_count": 2,
   "id": "f9ecab61",
   "metadata": {},
   "outputs": [
    {
     "data": {
      "text/plain": [
       "<flask_cors.extension.CORS at 0x20d4b3b6ac8>"
      ]
     },
     "execution_count": 2,
     "metadata": {},
     "output_type": "execute_result"
    }
   ],
   "source": [
    "app = Flask(__name__)\n",
    "app.config['JSON_AS_ASCII'] = False\n",
    "CORS(app)"
   ]
  },
  {
   "cell_type": "code",
   "execution_count": 3,
   "id": "e58d7910",
   "metadata": {},
   "outputs": [],
   "source": [
    "def makeAnswer(question) :\n",
    "    if \"흡연\" in question :\n",
    "        return '흡연은 일반적으로 건강에 해롭습니다. \\\n",
    "            특히 조현병 환자들에게 담배는 복용중인 약물의 \\\n",
    "                효과를 떨어뜨릴 수 있습니다. 따라서 흡연은 \\\n",
    "                    가능하면 피하시는 것이 좋겠습니다. '\n",
    "    if \"나이\" in question or \"연령\" in question :\n",
    "        return '조현병의 진단이 가능하다면 약물치료는 시작할 수 있습니다. \\\n",
    "            다만, 약물에 따라 사용할 수 있는 연령 제한이 있는 경우가 있으니 \\\n",
    "                약물의 종류 선택은 담당 선생님과 상의가 필요합니다.'\n",
    "    if \"토\" in question :\n",
    "        return '약을 먹은지 서너시간이 지나지 않았고 먹은 약을 토했을 정도로 \\\n",
    "            많이 토했다면 약을 다시 복용하시는 것이 좋을 것 같습니다.'\n",
    "    else : \n",
    "        return question + '에 대한 답변. 학습되지 않음.'"
   ]
  },
  {
   "cell_type": "code",
   "execution_count": 4,
   "id": "6b2b26fe",
   "metadata": {},
   "outputs": [],
   "source": [
    "@app.route('/')\n",
    "def default() :\n",
    "    return \"return of default_api\""
   ]
  },
  {
   "cell_type": "code",
   "execution_count": 5,
   "id": "9530890c",
   "metadata": {},
   "outputs": [
    {
     "name": "stdout",
     "output_type": "stream",
     "text": [
      " * Serving Flask app '__main__' (lazy loading)\n",
      " * Environment: production\n",
      "\u001b[31m   WARNING: This is a development server. Do not use it in a production deployment.\u001b[0m\n",
      "\u001b[2m   Use a production WSGI server instead.\u001b[0m\n",
      " * Debug mode: on\n"
     ]
    },
    {
     "name": "stderr",
     "output_type": "stream",
     "text": [
      " * Running on http://127.0.0.1:5000 (Press CTRL+C to quit)\n",
      " * Restarting with stat\n"
     ]
    },
    {
     "ename": "SystemExit",
     "evalue": "1",
     "output_type": "error",
     "traceback": [
      "An exception has occurred, use %tb to see the full traceback.\n",
      "\u001b[1;31mSystemExit\u001b[0m\u001b[1;31m:\u001b[0m 1\n"
     ]
    },
    {
     "name": "stderr",
     "output_type": "stream",
     "text": [
      "c:\\users\\mj\\appdata\\local\\programs\\python\\python37\\lib\\site-packages\\IPython\\core\\interactiveshell.py:3532: UserWarning: To exit: use 'exit', 'quit', or Ctrl-D.\n",
      "  warn(\"To exit: use 'exit', 'quit', or Ctrl-D.\", stacklevel=1)\n"
     ]
    }
   ],
   "source": [
    "# 질문에 대한 답변 return 하는 api\n",
    "@app.route('/<question>')\n",
    "def exportAnswer(question):\n",
    "    print(question)\n",
    "    return jsonify({\"answer\" : makeAnswer(question)})\n",
    "\n",
    "if __name__ == '__main__' :\n",
    "    app.run(debug=True, host=\"127.0.0.1\", port=5000)"
   ]
  },
  {
   "cell_type": "code",
   "execution_count": null,
   "id": "62fcb5c7",
   "metadata": {},
   "outputs": [],
   "source": []
  }
 ],
 "metadata": {
  "kernelspec": {
   "display_name": "Python 3 (ipykernel)",
   "language": "python",
   "name": "python3"
  },
  "language_info": {
   "codemirror_mode": {
    "name": "ipython",
    "version": 3
   },
   "file_extension": ".py",
   "mimetype": "text/x-python",
   "name": "python",
   "nbconvert_exporter": "python",
   "pygments_lexer": "ipython3",
   "version": "3.7.9"
  }
 },
 "nbformat": 4,
 "nbformat_minor": 5
}
